{
  "nbformat": 4,
  "nbformat_minor": 0,
  "metadata": {
    "colab": {
      "provenance": [],
      "authorship_tag": "ABX9TyNsiOO4nJTWdilSwlmAFbI3",
      "include_colab_link": true
    },
    "kernelspec": {
      "name": "python3",
      "display_name": "Python 3"
    },
    "language_info": {
      "name": "python"
    }
  },
  "cells": [
    {
      "cell_type": "markdown",
      "metadata": {
        "id": "view-in-github",
        "colab_type": "text"
      },
      "source": [
        "<a href=\"https://colab.research.google.com/github/maschu09/colab-test/blob/main/myfirstnotebook.ipynb\" target=\"_parent\"><img src=\"https://colab.research.google.com/assets/colab-badge.svg\" alt=\"Open In Colab\"/></a>"
      ]
    },
    {
      "cell_type": "code",
      "execution_count": null,
      "metadata": {
        "colab": {
          "base_uri": "https://localhost:8080/"
        },
        "id": "Q3a-qxgZBQCX",
        "outputId": "c0523892-b8b9-456a-fc41-e0442fd384e2"
      },
      "outputs": [
        {
          "output_type": "stream",
          "name": "stdout",
          "text": [
            "Hello world!\n"
          ]
        }
      ],
      "source": [
        "print(\"Hello world!\")"
      ]
    },
    {
      "cell_type": "markdown",
      "source": [
        "# My very first Colab notebook\n",
        "\n",
        "Testing various features starting with \"Hello world!\".\n",
        "Try out _various_ __formatting__ `options`!\n",
        "* list item 1\n",
        "* list item 2\n",
        "\n",
        "## Sub heading\n",
        "\n",
        "Author: Martin Schultz, February 2025\n"
      ],
      "metadata": {
        "id": "NLNsEexlC3kF"
      }
    },
    {
      "cell_type": "code",
      "source": [
        "import numpy as np\n",
        "from sklearn.ensemble import RandomForestClassifier\n",
        "# training data\n",
        "X = np.array([[[0.4,0.3,0.3],[0.6,0.5,0.3],[0.7,0.4,0.4]],[[0.4,0.4,0.3],[0.4,0.3,0.3],[0.7,0.5,0.4]],[[0.0,0.6,0.3],[0.0,0.5,0.2],[0.6,0.4,0.3]]])\n",
        "X = np.reshape(X, (9,3))\n",
        "# labels\n",
        "y = np.array([[1, 1, 1],[0, 1,1],[0,0,1]])\n",
        "y = y.flatten()   # similar to np.reshape(y, (9,))\n",
        "# initiate and train classifier\n",
        "clf = RandomForestClassifier(random_state=0)\n",
        "clf.fit(X,y)\n",
        "# print class predictions of the training data\n",
        "print(clf.predict(X))"
      ],
      "metadata": {
        "colab": {
          "base_uri": "https://localhost:8080/"
        },
        "id": "EFkK0O5KEC0z",
        "outputId": "71f7f61b-9a05-4a16-b301-05604a38332b"
      },
      "execution_count": 2,
      "outputs": [
        {
          "output_type": "stream",
          "name": "stdout",
          "text": [
            "[1 1 1 0 1 1 0 0 1]\n"
          ]
        }
      ]
    },
    {
      "cell_type": "code",
      "source": [
        "test = [[r,0.6,0.3] for r in np.arange(0.,1.,0.05)]\n",
        "print(clf.predict(test))"
      ],
      "metadata": {
        "colab": {
          "base_uri": "https://localhost:8080/"
        },
        "id": "TY5mk6j2Ul6X",
        "outputId": "1ba76e1a-fb31-412a-bc8f-5364801a22f9"
      },
      "execution_count": null,
      "outputs": [
        {
          "output_type": "stream",
          "name": "stdout",
          "text": [
            "[0 0 0 0 0 0 0 0 0 0 0 1 1 1 1 1 1 1 1 1]\n"
          ]
        }
      ]
    },
    {
      "cell_type": "code",
      "source": [
        "test = [[0.4,g,0.] for g in np.arange(0.,1.,0.05)]\n",
        "print(clf.predict(test))"
      ],
      "metadata": {
        "colab": {
          "base_uri": "https://localhost:8080/"
        },
        "outputId": "02acd951-13d7-4267-e65c-cd85e5270f8b",
        "id": "ppjJgQUHV7Ms"
      },
      "execution_count": 5,
      "outputs": [
        {
          "output_type": "stream",
          "name": "stdout",
          "text": [
            "[1 1 1 1 1 1 1 1 0 0 0 0 0 0 0 0 0 0 0 0]\n"
          ]
        }
      ]
    }
  ]
}